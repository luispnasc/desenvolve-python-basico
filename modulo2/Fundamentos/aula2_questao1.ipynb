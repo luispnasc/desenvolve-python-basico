{
 "cells": [
  {
   "cell_type": "markdown",
   "id": "855f7bef",
   "metadata": {},
   "source": [
    "1- Armazene o valor 5 em uma variável e o valor 2 em outra variável\n",
    "\n",
    "2- Imprima o tipo de dados dessas duas variáveis\n",
    "\n",
    "3- Divida a primeira variável (com o valor 5) pela segunda variável (com o valor 2) e armazene o resultado em uma terceira variável\n",
    "\n",
    "4- Imprima a terceira variável e também o seu tipo\n",
    "\n",
    " \n",
    "\n"
   ]
  },
  {
   "cell_type": "code",
   "execution_count": 4,
   "id": "c888f1e0",
   "metadata": {},
   "outputs": [
    {
     "name": "stdout",
     "output_type": "stream",
     "text": [
      "<class 'int'>\n",
      "<class 'int'>\n",
      "2.5\n",
      "<class 'float'>\n"
     ]
    }
   ],
   "source": [
    "v1 = 5\n",
    "v2 = 2\n",
    "print(type(v1))\n",
    "print(type(v2))\n",
    "resultado = v1 / v2\n",
    "print(resultado)\n",
    "print(type(resultado))"
   ]
  }
 ],
 "metadata": {
  "kernelspec": {
   "display_name": "Python 3",
   "language": "python",
   "name": "python3"
  },
  "language_info": {
   "codemirror_mode": {
    "name": "ipython",
    "version": 3
   },
   "file_extension": ".py",
   "mimetype": "text/x-python",
   "name": "python",
   "nbconvert_exporter": "python",
   "pygments_lexer": "ipython3",
   "version": "3.13.3"
  }
 },
 "nbformat": 4,
 "nbformat_minor": 5
}
