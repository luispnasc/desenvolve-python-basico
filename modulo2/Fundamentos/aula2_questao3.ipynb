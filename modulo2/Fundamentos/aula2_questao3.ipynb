{
 "cells": [
  {
   "cell_type": "markdown",
   "id": "a0e569f2",
   "metadata": {},
   "source": [
    "v1 = 10\n",
    "\n",
    "v2 = 20\n",
    "\n",
    "\n",
    "Complete o código aqui.\n",
    "\n",
    "\n",
    "print(v1) \n",
    "\n",
    "print(v2)"
   ]
  },
  {
   "cell_type": "code",
   "execution_count": 1,
   "id": "e05435f6",
   "metadata": {},
   "outputs": [
    {
     "name": "stdout",
     "output_type": "stream",
     "text": [
      "20\n",
      "10.0\n"
     ]
    }
   ],
   "source": [
    "v1 = 10\n",
    "v2 = 20\n",
    "\n",
    "v1 = v1 * 2\n",
    "v2 = v2 / 2\n",
    "\n",
    "print(v1)\n",
    "\n",
    "print(v2)"
   ]
  }
 ],
 "metadata": {
  "kernelspec": {
   "display_name": "Python 3",
   "language": "python",
   "name": "python3"
  },
  "language_info": {
   "codemirror_mode": {
    "name": "ipython",
    "version": 3
   },
   "file_extension": ".py",
   "mimetype": "text/x-python",
   "name": "python",
   "nbconvert_exporter": "python",
   "pygments_lexer": "ipython3",
   "version": "3.13.3"
  }
 },
 "nbformat": 4,
 "nbformat_minor": 5
}
