{
 "cells": [
  {
   "cell_type": "markdown",
   "id": "d422dccc",
   "metadata": {},
   "source": [
    "1- Armazene o texto \"o resultado é\"  em uma variável, o valor 10 em outra variável, e o valor 3.5 numa terceira variável.\n",
    "\n",
    "2- Some os valores da segunda e terceira variável e armazene em outra variável.\n",
    "\n",
    "3- Imprima todas as variáveis na ordem de criação e imprima também seus tipos.\n",
    "\n",
    " "
   ]
  },
  {
   "cell_type": "code",
   "execution_count": 1,
   "id": "4373e637",
   "metadata": {},
   "outputs": [
    {
     "name": "stdout",
     "output_type": "stream",
     "text": [
      "o resultado é\n",
      "<class 'str'>\n",
      "10\n",
      "<class 'int'>\n",
      "3.5\n",
      "<class 'float'>\n",
      "13.5\n",
      "<class 'float'>\n"
     ]
    }
   ],
   "source": [
    "v1 = \"o resultado é\"\n",
    "v2 = 10\n",
    "v3 = 3.5\n",
    "resultado = v2 + v3 \n",
    "print(v1)\n",
    "print(type(v1))\n",
    "print(v2)\n",
    "print(type(v2))\n",
    "print(v3)\n",
    "print(type(v3))\n",
    "print(resultado)\n",
    "print(type(resultado))"
   ]
  }
 ],
 "metadata": {
  "kernelspec": {
   "display_name": "Python 3",
   "language": "python",
   "name": "python3"
  },
  "language_info": {
   "codemirror_mode": {
    "name": "ipython",
    "version": 3
   },
   "file_extension": ".py",
   "mimetype": "text/x-python",
   "name": "python",
   "nbconvert_exporter": "python",
   "pygments_lexer": "ipython3",
   "version": "3.13.3"
  }
 },
 "nbformat": 4,
 "nbformat_minor": 5
}
