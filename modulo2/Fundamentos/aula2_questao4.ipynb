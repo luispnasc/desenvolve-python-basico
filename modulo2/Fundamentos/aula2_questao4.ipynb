{
 "cells": [
  {
   "cell_type": "markdown",
   "id": "c95625e7",
   "metadata": {},
   "source": [
    "juros = 1.01\n",
    "\n",
    "saldo = 500.0\n",
    "\n",
    "rendimento1 = saldo * juros\n",
    "\n",
    "rendimento2 = rendimento1 * juros\n",
    "\n",
    "rendimento3 = rendimento2 * juros\n",
    "\n",
    "print(\"Após 3 meses meu novo saldo é\")\n",
    "\n",
    "print(rendimento3)"
   ]
  },
  {
   "cell_type": "code",
   "execution_count": 2,
   "id": "63ad92ec",
   "metadata": {},
   "outputs": [
    {
     "name": "stdout",
     "output_type": "stream",
     "text": [
      "Após 3 meses meu novo saldo é\n",
      "515.1505\n"
     ]
    }
   ],
   "source": [
    "juros = 1.01\n",
    "saldo = 500.0\n",
    "\n",
    "saldo = saldo * juros\n",
    "saldo = saldo * juros\n",
    "saldo = saldo * juros\n",
    "\n",
    "print(\"Após 3 meses meu novo saldo é\")\n",
    "print(saldo)\n",
    "\n"
   ]
  }
 ],
 "metadata": {
  "kernelspec": {
   "display_name": "Python 3",
   "language": "python",
   "name": "python3"
  },
  "language_info": {
   "codemirror_mode": {
    "name": "ipython",
    "version": 3
   },
   "file_extension": ".py",
   "mimetype": "text/x-python",
   "name": "python",
   "nbconvert_exporter": "python",
   "pygments_lexer": "ipython3",
   "version": "3.13.3"
  }
 },
 "nbformat": 4,
 "nbformat_minor": 5
}
