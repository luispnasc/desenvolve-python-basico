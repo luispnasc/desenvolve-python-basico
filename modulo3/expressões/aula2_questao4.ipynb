{
 "cells": [
  {
   "cell_type": "code",
   "execution_count": null,
   "id": "9611a2ce",
   "metadata": {},
   "outputs": [
    {
     "name": "stdout",
     "output_type": "stream",
     "text": [
      "False\n"
     ]
    }
   ],
   "source": [
    "#Entrada\n",
    "classe = input(\"Escolha a sua classe (guerreiro, mago ou arqueiro): \")\n",
    "forca  = int(input(\"Digite os pontos de força (de 1 a 20): \"))\n",
    "magia  = int(input(\"Digite os pontos de magia (de 1 a 20): \"))\n",
    "\n",
    "#Processamento\n",
    "a = (classe == 'guerreiro') and (forca >= 15) and (magia <= 10)\n",
    "b = (classe == 'mago') and (forca <= 10) and (magia >= 15)\n",
    "c = (classe == 'arqueiro') and (forca and magia >= 5) and (forca and magia <= 15)\n",
    "\n",
    "pont_atributos = a or b or c \n",
    "\n",
    "#Saída\n",
    "print(pont_atributos)"
   ]
  }
 ],
 "metadata": {
  "kernelspec": {
   "display_name": "Python 3",
   "language": "python",
   "name": "python3"
  },
  "language_info": {
   "codemirror_mode": {
    "name": "ipython",
    "version": 3
   },
   "file_extension": ".py",
   "mimetype": "text/x-python",
   "name": "python",
   "nbconvert_exporter": "python",
   "pygments_lexer": "ipython3",
   "version": "3.13.3"
  }
 },
 "nbformat": 4,
 "nbformat_minor": 5
}
