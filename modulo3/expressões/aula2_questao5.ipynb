{
 "cells": [
  {
   "cell_type": "code",
   "execution_count": null,
   "id": "6c222489",
   "metadata": {},
   "outputs": [
    {
     "name": "stdout",
     "output_type": "stream",
     "text": [
      "True\n"
     ]
    }
   ],
   "source": [
    "#Entrada\n",
    "genero = (input())\n",
    "idade  = int(input())\n",
    "tempo  = int(input())\n",
    "\n",
    "#Processamento\n",
    "a = (genero == 'f' and idade >= 60) or \\\n",
    "    (genero == 'm' and idade >= 65)\n",
    "\n",
    "b = tempo >= 30\n",
    "c = idade >= 60 and tempo >= 25\n",
    "\n",
    "pode_aposentar = a or b or c\n",
    "\n",
    "#Saída\n",
    "print(pode_aposentar)"
   ]
  }
 ],
 "metadata": {
  "kernelspec": {
   "display_name": "Python 3",
   "language": "python",
   "name": "python3"
  },
  "language_info": {
   "codemirror_mode": {
    "name": "ipython",
    "version": 3
   },
   "file_extension": ".py",
   "mimetype": "text/x-python",
   "name": "python",
   "nbconvert_exporter": "python",
   "pygments_lexer": "ipython3",
   "version": "3.13.3"
  }
 },
 "nbformat": 4,
 "nbformat_minor": 5
}
