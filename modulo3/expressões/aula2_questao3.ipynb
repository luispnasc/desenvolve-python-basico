{
 "cells": [
  {
   "cell_type": "code",
   "execution_count": null,
   "id": "bd89a84a",
   "metadata": {},
   "outputs": [
    {
     "name": "stdout",
     "output_type": "stream",
     "text": [
      "False\n"
     ]
    }
   ],
   "source": [
    "#Entrada\n",
    "idade = int(input(\"Digite sua idade: \"))\n",
    "ja_jogou = input(\"Já jogou pelo menos 3 jogos de trabuleiro? (True or false) \")\n",
    "vitorias = int(input(\"Quantos jogos já venceu? \"))\n",
    "\n",
    "#Processamento\n",
    "pode_entrar = (idade >= 16 or idade <=18) and ja_jogou == 'true' and (vitorias >= 1 )\n",
    "\n",
    "#Saída\n",
    "print(pode_entrar)\n"
   ]
  }
 ],
 "metadata": {
  "kernelspec": {
   "display_name": "Python 3",
   "language": "python",
   "name": "python3"
  },
  "language_info": {
   "codemirror_mode": {
    "name": "ipython",
    "version": 3
   },
   "file_extension": ".py",
   "mimetype": "text/x-python",
   "name": "python",
   "nbconvert_exporter": "python",
   "pygments_lexer": "ipython3",
   "version": "3.13.3"
  }
 },
 "nbformat": 4,
 "nbformat_minor": 5
}
