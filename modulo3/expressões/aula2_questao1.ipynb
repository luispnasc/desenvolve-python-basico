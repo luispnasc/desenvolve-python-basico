{
 "cells": [
  {
   "cell_type": "code",
   "execution_count": 4,
   "id": "a7b33632",
   "metadata": {},
   "outputs": [
    {
     "name": "stdout",
     "output_type": "stream",
     "text": [
      "True\n"
     ]
    }
   ],
   "source": [
    "#Entrada\n",
    "idade_juliana = int(input())\n",
    "idade_cris = int(input())\n",
    "\n",
    "#Processamento\n",
    "pode_entrar = idade_juliana > 17 and idade_cris > 17\n",
    "\n",
    "#Saída\n",
    "print(pode_entrar)\n",
    "                "
   ]
  }
 ],
 "metadata": {
  "kernelspec": {
   "display_name": "Python 3",
   "language": "python",
   "name": "python3"
  },
  "language_info": {
   "codemirror_mode": {
    "name": "ipython",
    "version": 3
   },
   "file_extension": ".py",
   "mimetype": "text/x-python",
   "name": "python",
   "nbconvert_exporter": "python",
   "pygments_lexer": "ipython3",
   "version": "3.13.3"
  }
 },
 "nbformat": 4,
 "nbformat_minor": 5
}
